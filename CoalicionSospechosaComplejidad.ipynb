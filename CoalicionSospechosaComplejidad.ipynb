{
  "nbformat": 4,
  "nbformat_minor": 0,
  "metadata": {
    "colab": {
      "provenance": []
    },
    "kernelspec": {
      "name": "python3",
      "display_name": "Python 3"
    },
    "language_info": {
      "name": "python"
    }
  },
  "cells": [
    {
      "cell_type": "markdown",
      "source": [
        "# **Practica 1:** Coalición Sospechosa.\n",
        "\n",
        "del Valle Vera Nancy Elena\n"
      ],
      "metadata": {
        "id": "ciQOxPC2F0RQ"
      }
    },
    {
      "cell_type": "code",
      "source": [
        "# Bibliotecas Necesarias\n",
        "import random as rd\n",
        "import networkx as nx\n",
        "import matplotlib.pyplot as plt"
      ],
      "metadata": {
        "id": "RjdL_m4jG1fc"
      },
      "execution_count": 1,
      "outputs": []
    },
    {
      "cell_type": "markdown",
      "source": [
        "**Algoritmo No Determinista**"
      ],
      "metadata": {
        "id": "OPHD1EpiXmz5"
      }
    },
    {
      "cell_type": "code",
      "execution_count": 2,
      "metadata": {
        "id": "KooMqupNFnXD"
      },
      "outputs": [],
      "source": [
        "# Fase de Adivinación\n",
        "def adivinacion(usuarios):\n",
        "  '''\n",
        "    Función que se encarga de ejecutar la fase de adivinación del algoritmo no Determinista.\n",
        "    Parametros:\n",
        "      usuarios : Lista de usuarios\n",
        "\n",
        "    Salida:\n",
        "      sospechosos : Lista de usuarios escogidos al azar\n",
        "  '''\n",
        "  # Regresa una lista de usuarios escogidos al azar\n",
        "  sospechosos = []\n",
        "  for user in usuarios:\n",
        "    # La decisión aleatoria esta dada por 'tirar una moneda', donde 0\n",
        "    # corresponde a sol (no agregamos) y uno a aguila (agregamos).\n",
        "    if rd.randint(0,1) == 1:\n",
        "      sospechosos.append(user)\n",
        "\n",
        "  return sospechosos"
      ]
    },
    {
      "cell_type": "code",
      "source": [
        "# Fase de Verificación\n",
        "def verificacion(sospechosos, accesos, ipAtacadas, k):\n",
        "  '''\n",
        "    Función que se encarga de ejecutar la fase de verificación del algoritmo no Determinista.\n",
        "    Parametros:\n",
        "      sospechosos : Lista de usuarios escogidos al azar\n",
        "      accesos : diccionario estilo { usuario1 : [(minuto1, ipAccedida1), ... (minutoN, ipAccedidaN)], ..., usuarioN : [...]}\n",
        "      ipAtacadas : Lista de las ip's atacadas\n",
        "      k : Tamaño máximo de la coalición sospechosa\n",
        "\n",
        "    Salida:\n",
        "      True si la coalición es correcta, False en caso contrario\n",
        "  '''\n",
        "  # Si la lista de sospechoso no tiene máximo tamaño k se descarta la elección\n",
        "  if len(sospechosos) > k:\n",
        "    return False\n",
        "\n",
        "  # Por cada sospechoso revisamos sus accesos a todas las ips disponibles,\n",
        "  # si la ip esta entre las atacadas y el minuto accedido coincide con la m\n",
        "  # asociada a la ip lo agregamos a la lista pues esto indica que al menos\n",
        "  # uno de los usuarios sospechosos accedio a la direccion atacada en el minuto correcto\n",
        "  ips = []\n",
        "  for s in sospechosos:\n",
        "    for (m, ip) in accesos[s]:\n",
        "      if ip in ipAtacadas and m == ip:\n",
        "        if ip not in ips:\n",
        "          ips.append(ip)\n",
        "\n",
        "  # Al final, si ambas listas tienen la misma longitud implica que se eligio a\n",
        "  # la coalicion sospechosa correcta\n",
        "  return len(ips) == len(ipAtacadas)\n"
      ],
      "metadata": {
        "id": "Ps9hwui0GI_2"
      },
      "execution_count": 3,
      "outputs": []
    },
    {
      "cell_type": "code",
      "source": [
        "# Algoritmo no Determinista\n",
        "def Nodeterminista(accesos, ipAtacadas, k):\n",
        "  '''\n",
        "     Función que ejecuta el algoritmo no determinista.\n",
        "     Parametros:\n",
        "      accesos : diccionario estilo { usuario1 : [(minuto1, ipAccedida1), ... (minutoN, ipAccedidaN)], ..., usuarioN : [...]}\n",
        "      ipAtacadas : Lista de las ip's atacadas\n",
        "      k : Tamaño máximo de la coalición sospechosa\n",
        "\n",
        "    Salida:\n",
        "      True si la coalición es correcta, False en caso contrario\n",
        "  '''\n",
        "  usuarios = list(accesos.keys())\n",
        "  sospechosos = adivinacion(usuarios)\n",
        "  print(sospechosos)\n",
        "  return verificacion(sospechosos, accesos, ipAtacadas,k)"
      ],
      "metadata": {
        "id": "cI72UIS_GLX0"
      },
      "execution_count": 4,
      "outputs": []
    },
    {
      "cell_type": "code",
      "source": [
        "# Ejemplo visto durante las ayudantias\n",
        "acc = {'A' : [(1, 1)], 'B': [(2, 2)], 'C' : [(1,1), (2,2)]}\n",
        "ipA = [1, 2]\n",
        "k = 1\n",
        "\n",
        "Nodeterminista(acc, ipA, k)"
      ],
      "metadata": {
        "colab": {
          "base_uri": "https://localhost:8080/"
        },
        "id": "m4goNVvsTQjK",
        "outputId": "35dd9a9b-f332-4016-a540-7b9e798db2a9"
      },
      "execution_count": 5,
      "outputs": [
        {
          "output_type": "stream",
          "name": "stdout",
          "text": [
            "['A', 'B']\n"
          ]
        },
        {
          "output_type": "execute_result",
          "data": {
            "text/plain": [
              "False"
            ]
          },
          "metadata": {},
          "execution_count": 5
        }
      ]
    },
    {
      "cell_type": "code",
      "source": [
        "# Ejemplo 2\n",
        "acc = {'1' : [(1, 1), (2, 1)], '2': [(2, 2), (3, 3)], '3' : [(1, 5), (2, 3), (3, 4)], '4' : [(1, 1), (4, 4), (3, 5)], '5': [(1, 2), (2, 5), (3, 3)]}\n",
        "# Suponemos que las direcciones fueron atacadas en el minuto de su enumeración\n",
        "ipA = [2, 4, 3]\n",
        "k = 2\n",
        "\n",
        "# Prueba Algoritmo No Determinista\n",
        "Nodeterminista(acc, ipA, k)\n",
        "\n",
        "\n",
        "# Prueba Verificación\n",
        "\n",
        "# Usuarios 3 y 2 (Solución Erronea)\n",
        "#verificacion(['3', '2'], acc, ipA, k)\n",
        "\n",
        "# Usuarios 2 y 4 (Solución Correcta)\n",
        "#verificacion(['2', '4'], acc, ipA, k)"
      ],
      "metadata": {
        "colab": {
          "base_uri": "https://localhost:8080/"
        },
        "id": "28OVGLOqUphT",
        "outputId": "34fda0f2-d709-4c5e-a358-9580af97ca68"
      },
      "execution_count": 7,
      "outputs": [
        {
          "output_type": "stream",
          "name": "stdout",
          "text": [
            "['2']\n"
          ]
        },
        {
          "output_type": "execute_result",
          "data": {
            "text/plain": [
              "False"
            ]
          },
          "metadata": {},
          "execution_count": 7
        }
      ]
    },
    {
      "cell_type": "markdown",
      "source": [
        "**Reducción desde Vertex Cover**"
      ],
      "metadata": {
        "id": "WFzW2GUWXwt9"
      }
    },
    {
      "cell_type": "code",
      "source": [
        "# Dada una lista de adyacencias como diccionario, regresa una\n",
        "# lista de vertices y una lista con las aristas sin repetir, donde,\n",
        "# consideramos que (u, v) es igual a (v, u).\n",
        "def elementosG (listaAdyacencias):\n",
        "  '''\n",
        "     Función que se encarga de regresar los vertices y aristas.\n",
        "     Parametros:\n",
        "      listaAdyacencias : diccionario estilo { vertice1 : [u1, ..., uN], ..., verticeN : [...]}\n",
        "\n",
        "     Salida:\n",
        "      vertices : Lista de vertices\n",
        "      aristas : Lista de aristas\n",
        "  '''\n",
        "  vertices = list(listaAdyacencias.keys())\n",
        "  aristas = []\n",
        "\n",
        "  for v in vertices:\n",
        "    for u in listaAdyacencias[v]:\n",
        "      if (u, v) not in aristas:\n",
        "        aristas.append((v, u))\n",
        "\n",
        "  return vertices, aristas\n",
        "\n",
        "# Dado un ejemplar de Vertex Cover regresa un diccionario con los\n",
        "# usuarios y sus accesos con minutos a las ip's, junto a una lista\n",
        "# de las ip's atacadas.\n",
        "def reduccion (listaAdyacencias):\n",
        "  '''\n",
        "     Función que se encarga de realizar la reducción desde un ejemplar de Vertex\n",
        "     Cover a uno de la Coalisión Sospechosa.\n",
        "     Parametros:\n",
        "      listaAdyacencias : diccionario estilo { vertice1 : [u1, ..., uN], ..., verticeN : [...]}\n",
        "\n",
        "     Salida:\n",
        "      acc : diccionario estilo { usuario1 : [(minuto1, ipAccedida1), ... (minutoN, ipAccedidaN)], ..., usuarioN : [...]}\n",
        "      ipA : Lista de las ip's atacadas\n",
        "  '''\n",
        "  vertices, aristas = elementosG(listaAdyacencias)\n",
        "\n",
        "  # Para cada vertice del ejemplar de Vertex Cover creamos un usuario.\n",
        "  acc = {}\n",
        "  for v in vertices:\n",
        "    acc[v] = []\n",
        "\n",
        "  m = 0\n",
        "  ipA = []\n",
        "  # Por cada arista del ejemplar del Vertex Cover creamos un acceso para\n",
        "  # ambos extremos a la dirección ip en el minuto correspondiente a la\n",
        "  # arista. Es decir, decimos que hay la misma cantidad de minutos e ip's\n",
        "  # por cada arista en la gráfica.\n",
        "  for (u, v) in aristas:\n",
        "    m += 1\n",
        "    acc[u].append((m, m))\n",
        "    acc[v].append((m, m))\n",
        "    ipA.append(m)\n",
        "\n",
        "  return acc, ipA\n",
        "\n"
      ],
      "metadata": {
        "id": "fyvk5wARX6Ww"
      },
      "execution_count": 8,
      "outputs": []
    },
    {
      "cell_type": "code",
      "source": [
        "# Ejemplo de Reducción Visto en Clase\n",
        "#Vertex Cover\n",
        "grafica1 = {'A' : ['B'], 'B': ['C'], 'C' : []}\n",
        "k = 1\n",
        "\n",
        "acc, ipA = reduccion(grafica1)\n",
        "\n",
        "Nodeterminista(acc, ipA, k)\n"
      ],
      "metadata": {
        "colab": {
          "base_uri": "https://localhost:8080/"
        },
        "id": "LcsCK30Ba_wW",
        "outputId": "774c51fa-9b31-4294-cc36-fdb0021eb09b"
      },
      "execution_count": 10,
      "outputs": [
        {
          "output_type": "stream",
          "name": "stdout",
          "text": [
            "['A', 'B']\n"
          ]
        },
        {
          "output_type": "execute_result",
          "data": {
            "text/plain": [
              "False"
            ]
          },
          "metadata": {},
          "execution_count": 10
        }
      ]
    },
    {
      "cell_type": "code",
      "source": [
        "# Ejemplo Práctico de la Reducción\n",
        "# Gráfica de 15 vértices, 20 aristas y con un vertex cover de 5\n",
        "# Vertex Cover = {1, 2, 3, 4, 5}\n",
        "grafica = { 1 : [6, 10, 11, 14], 2 : [6, 7, 12, 15], 3 : [7, 8, 11,13], 4 : [8, 9, 12, 14], 5 : [9, 10, 13, 15], 6 : [1, 2], 7 : [2, 3], 8 : [3, 4], 9 : [4, 5], 10 : [5, 1], 11 : [1, 3], 12 : [2, 4], 13 : [3, 5], 14 : [4, 1], 15 : [5, 2]}\n",
        "k = 5\n",
        "\n",
        "v, e = elementosG(grafica)\n",
        "G = nx.Graph()\n",
        "G.add_nodes_from(v)\n",
        "G.add_edges_from(e)\n",
        "\n",
        "\n",
        "nx.draw(G, with_labels = True)\n",
        "plt.title(\"G(V, E) con Vertex Cover K = 5\")\n",
        "plt.show()\n",
        "\n",
        "acc, ipA = reduccion(grafica)\n",
        "print(\"\\nUsuarios con minuto e Ip ingresada:\\n\")\n",
        "print(acc)\n",
        "print(\"\\nIPs Atacadas:\\n\")\n",
        "print(ipA)\n",
        "\n",
        "print(\"\\nSolución No Determinista:\\n\")\n",
        "print(Nodeterminista(acc, ipA, k))\n",
        "\n",
        "print(\"\\nVerificación con Vertex Cover Dado:\\n\")\n",
        "cover = [1, 2, 3, 4, 5]\n",
        "print(cover)\n",
        "verificacion(cover, acc, ipA, k)\n"
      ],
      "metadata": {
        "colab": {
          "base_uri": "https://localhost:8080/",
          "height": 872
        },
        "id": "slBTogh0doGn",
        "outputId": "dfddd647-50b2-402f-a1fa-6b86df5eafd9"
      },
      "execution_count": 11,
      "outputs": [
        {
          "output_type": "display_data",
          "data": {
            "text/plain": [
              "<Figure size 640x480 with 1 Axes>"
            ],
            "image/png": "[encoded data removed]"
          },
          "metadata": {}
        },
        {
          "output_type": "stream",
          "name": "stdout",
          "text": [
            "\n",
            "Usuarios con minuto e Ip ingresada:\n",
            "\n",
            "{1: [(1, 1), (2, 2), (3, 3), (4, 4)], 2: [(5, 5), (6, 6), (7, 7), (8, 8)], 3: [(9, 9), (10, 10), (11, 11), (12, 12)], 4: [(13, 13), (14, 14), (15, 15), (16, 16)], 5: [(17, 17), (18, 18), (19, 19), (20, 20)], 6: [(1, 1), (5, 5)], 7: [(6, 6), (9, 9)], 8: [(10, 10), (13, 13)], 9: [(14, 14), (17, 17)], 10: [(2, 2), (18, 18)], 11: [(3, 3), (11, 11)], 12: [(7, 7), (15, 15)], 13: [(12, 12), (19, 19)], 14: [(4, 4), (16, 16)], 15: [(8, 8), (20, 20)]}\n",
            "\n",
            "IPs Atacadas:\n",
            "\n",
            "[1, 2, 3, 4, 5, 6, 7, 8, 9, 10, 11, 12, 13, 14, 15, 16, 17, 18, 19, 20]\n",
            "\n",
            "Solución No Determinista:\n",
            "\n",
            "[2, 6, 7, 9, 10, 12]\n",
            "False\n",
            "\n",
            "Verificación con Vertex Cover Dado:\n",
            "\n",
            "[1, 2, 3, 4, 5]\n"
          ]
        },
        {
          "output_type": "execute_result",
          "data": {
            "text/plain": [
              "True"
            ]
          },
          "metadata": {},
          "execution_count": 11
        }
      ]
    }
  ]
}